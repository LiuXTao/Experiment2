{
 "cells": [
  {
   "cell_type": "code",
   "execution_count": 66,
   "metadata": {
    "collapsed": true
   },
   "outputs": [],
   "source": [
    "import numpy as np\n",
    "import math\n",
    "import random\n",
    "import matplotlib.pyplot as plt\n",
    "from sklearn.externals.joblib import Memory\n",
    "from sklearn.datasets import load_svmlight_file\n",
    "from sklearn.model_selection import train_test_split"
   ]
  },
  {
   "cell_type": "code",
   "execution_count": 67,
   "metadata": {
    "collapsed": true
   },
   "outputs": [],
   "source": [
    "#读取数据的函数\n",
    "def get_data(file):\n",
    "    data=load_svmlight_file(file)              #调用load_svmlight（）用于读取函数\n",
    "    return data[0].todense(),data[1]            #返回值，第一个为训练特征数据，第二个为训练标签\n",
    "#训练集和测试集读取数据\n",
    "X_train,y_train=get_data('./a9a')\n",
    "X_test,y_test=get_data('./a9a.t')"
   ]
  },
  {
   "cell_type": "code",
   "execution_count": 68,
   "metadata": {
    "collapsed": true
   },
   "outputs": [],
   "source": [
    "#获取X_train的横纵维度\n",
    "(n,m)=np.shape(X_train)\n",
    "X_train=np.hstack((X_train,np.ones((n,1))))     #为训练数据的每一条数据增加一列,作为bias\n",
    "(n,m)=np.shape(X_test)                           #获取X_test的横纵维度\n",
    "X_test=np.hstack((X_test,np.zeros((n,1))))      #经发现，为第123列没有数据，故补充一列全零列\n",
    "X_test=np.hstack((X_test,np.ones((n,1))))       #为测试数据的每一条数据增加一列,作为bias\n",
    "\n",
    "#将y_train和y_test变为n*1的列向量\n",
    "y_train=np.reshape(y_train,(len(y_train),1))\n",
    "y_test=np.reshape(y_test,(len(y_test),1))"
   ]
  },
  {
   "cell_type": "code",
   "execution_count": 69,
   "metadata": {
    "collapsed": true
   },
   "outputs": [],
   "source": [
    "#定义hingeloss损失函数\n",
    "def hingeloss(X,y,w):\n",
    "    l=1-np.multiply(y,X*w)                     #y与X*w先做点乘,相应位置相乘\n",
    "    l2=(l>=0)                                  #然后求出哪个元素大于等于0，化成布尔矩阵l2\n",
    "    result=np.multiply(l,l2)                     #通过l和l2点乘进行筛选，大于等于0的项保留，小于0的项清除变为0,实现hingeloss损失\n",
    "    return np.mean(result)"
   ]
  },
  {
   "cell_type": "markdown",
   "metadata": {},
   "source": [
    "hinge loss的公式:\n",
    "$$Hinge loss=\\epsilon_i=max(0-1-y_i(w^Tx_i+b))$$"
   ]
  },
  {
   "cell_type": "code",
   "execution_count": 70,
   "metadata": {},
   "outputs": [],
   "source": [
    "#准确率计算函数\n",
    "def accuracy(X,w,y):\n",
    "    threshold=0.5                              #设置阈值未0.5\n",
    "    y_predict=X*w                              #得到X，w的预测结果\n",
    "    val=np.multiply(y,y_predict)               #y预测值与y真实值相乘 \n",
    "    N=np.zeros((len(y),1))                  \n",
    "    N[val>=threshold]=1       #y预测值与y真实值相乘,积大于阈值赋值1，表示分类正确,否则为0及分类错误，得到表示结果正确与否的0-1列向量\n",
    "    return np.mean(N)         #得到准确率"
   ]
  },
  {
   "cell_type": "code",
   "execution_count": 71,
   "metadata": {
    "collapsed": true
   },
   "outputs": [],
   "source": [
    "#求梯度函数,其中正则系数C默认值为1\n",
    "def gradient(X,y,w,C=1):\n",
    "    l=1-np.multiply(y,X*w)                       #先做点乘\n",
    "    l2=(l>=0)                                    #然后求出哪个元素大于等于0，化成布尔矩阵\n",
    "    tmp=np.multiply(y,l2)                        #通过点乘进行筛选，大于等于0的项保留，小于0的项清除变为0\n",
    "    return w-C*np.sum(np.multiply(X,tmp),0).T   #计算最终梯度"
   ]
  },
  {
   "cell_type": "markdown",
   "metadata": {},
   "source": [
    "梯度公式：\n",
    "$$gradient=w-\\frac{C}{n}\\sum_{i=1}^{n}(x_iy_i)y\\__i$$\n",
    "其中$y\\__i$=1 if $1-y_i(w^Tx_i)$ else $y\\__i=0$         \n",
    "在上述gradient函数实现中，代码中的C相当于此处C/n,视线中，我将除以n包进C中"
   ]
  },
  {
   "cell_type": "code",
   "execution_count": 72,
   "metadata": {
    "collapsed": true
   },
   "outputs": [],
   "source": [
    "#准确率计算函数\n",
    "# def accuracy(X,w,y):\n",
    "#     y_predict=predict(X,w)                  #得到X，w的预测结果\n",
    "#     N=np.zeros((len(y),1))\n",
    "#     N[y_predict==y]=1                       #与y预测值与y真实值进行比较，相同赋值1  否则为0\n",
    "#     return np.sum(N)/len(y)"
   ]
  },
  {
   "cell_type": "code",
   "execution_count": 73,
   "metadata": {
    "collapsed": true
   },
   "outputs": [],
   "source": [
    "#未优化的sgd的实现函数\n",
    "def SGD_gradient(X,y,w,eta,C):\n",
    "    grad=gradient(X,y,w,C)           #计算梯度\n",
    "    w=w-eta*grad                   #进行一步梯度下降\n",
    "    return w"
   ]
  },
  {
   "cell_type": "markdown",
   "metadata": {},
   "source": [
    "SGD实现原理：\n",
    "$$g_t=\\frac{\\partial J(W_{t-1})}{\\partial w}$$\n",
    "$$W_t=W_{t-1}-\\eta g_t$$"
   ]
  },
  {
   "cell_type": "code",
   "execution_count": 74,
   "metadata": {
    "collapsed": true
   },
   "outputs": [],
   "source": [
    "#NAG sgd的实现函数\n",
    "def NAG_gradient(X,y,w,v,gamma,eta,C):\n",
    "    grad=gradient(X,y,w-gamma*v,C)         #计算梯度\n",
    "    v=gamma*v+eta*grad                     #更新v值\n",
    "    w=w-v                                  #梯度下降\n",
    "    return w,v"
   ]
  },
  {
   "cell_type": "markdown",
   "metadata": {},
   "source": [
    "NAG实现原理：\n",
    "$$g_t=\\frac{\\partial J}{\\partial w}(W_{t-1}-\\gamma v_{t-1})$$\n",
    "$$v_t=\\gamma v_{t-1}+\\eta g_{t-1}$$\n",
    "$$W_t=W_{t-1}-v_t$$"
   ]
  },
  {
   "cell_type": "code",
   "execution_count": 75,
   "metadata": {
    "collapsed": true
   },
   "outputs": [],
   "source": [
    "#RMS sgd的实现函数\n",
    "def RMS_gradient(X,y,w,G,gamma,eta,epision,C): \n",
    "    grad=gradient(X,y,w,C)                            #计算梯度\n",
    "    G=gamma*G+(1-gamma)*np.square(grad)                    #G值由过去的G值和新的梯度点乘求得\n",
    "    dot=np.multiply(eta/(np.sqrt(G+epision)),grad)             \n",
    "    w=w-dot                                                #梯度下降\n",
    "    return w,G"
   ]
  },
  {
   "cell_type": "markdown",
   "metadata": {},
   "source": [
    "RMS实现原理：\n",
    "$$g_t=\\frac{\\partial J(W_{t-1})}{\\partial w}$$\n",
    "$$G_t=\\gamma G_t+(1-\\gamma)g_t·g_t)$$\n",
    "\n",
    "$$W_t=W_{t-1}-\\frac{\\eta}{\\sqrt{G_t+\\epsilon }}·g_t$$"
   ]
  },
  {
   "cell_type": "code",
   "execution_count": 76,
   "metadata": {
    "collapsed": true
   },
   "outputs": [],
   "source": [
    "#Adadelta sgd实现\n",
    "def Adadelta_gradient(X,y,w,G,gamma,delta,epision,C):\n",
    "    grad=gradient(X,y,w,C)                       #计算梯度\n",
    "    dot=np.square(grad)                            #梯度进行点乘\n",
    "    G=gamma*G+(1-gamma)*dot                     #G值由过去的G值和新的梯度点乘求得\n",
    "    delta_w=np.multiply((np.sqrt(delta+epision)/np.sqrt(G+epision)),grad) #w_delta计算\n",
    "    w=w-delta_w                                      #梯度下降\n",
    "    delta=gamma*delta+(1-gamma)*(np.square(delta_w))  #新delta由过去的delta值和新的w_delta的点乘求得\n",
    "    return w,G,delta"
   ]
  },
  {
   "cell_type": "markdown",
   "metadata": {},
   "source": [
    "#Adadelta实现原理\n",
    "$$g_t=\\Delta J(W_{t-1}$$\n",
    "$$G_t=\\gamma W_t+(1-\\gamma)g_t·g_t$$\n",
    "$$\\Delta W_t=-\\frac{\\sqrt{\\Delta _{t-1}+\\epsilon}}{\\sqrt{G_t+\\epsilon }}·g_t$$\n",
    "$$W_t=W_{t-1}+\\Delta W_t$$\n",
    "$$\\Delta _t=\\gamma \\Delta _{t-1}+(1-\\gamma)\\Delta W_t·\\Delta W_t$$"
   ]
  },
  {
   "cell_type": "code",
   "execution_count": 77,
   "metadata": {
    "collapsed": true
   },
   "outputs": [],
   "source": [
    "#Adam sgd实现\n",
    "def Adam_gradient(X,y,w,G,m,gamma,t,eta,belta,epision,C):\n",
    "    grad=gradient(X,y,w,C)                                     #计算梯度\n",
    "    m=belta*m+(1-belta)*grad                                         #根据原有的m值和新求得grad计算m\n",
    "    G=gamma*G+(1-gamma)*(np.multiply(grad,grad))                            #G值由过去的G值和新的梯度点乘求得\n",
    "    alpha=eta*(np.sqrt(1-math.pow(gamma,t))/(1-math.pow(belta,t)))  #计算alpha\n",
    "    w=w-alpha*(m/(np.sqrt(G+epision)))                             #梯度下降\n",
    "    return w,G,m"
   ]
  },
  {
   "cell_type": "markdown",
   "metadata": {},
   "source": [
    "Adam的实现原理：\n",
    "$$g_t=\\frac{\\partial J(W_{t-1})}{\\partial} w$$\n",
    "$$m_t=\\beta _1m_{t-1}+(1-\\beta)g_t$$\n",
    "$$G_t=\\gamma G_t+(1-\\gamma)g_t·g_t$$\n",
    "$$\\alpha=\\eta\\frac{\\sqrt{1-\\gamma ^t}}{1-\\beta ^t}$$\n",
    "$$\\Theta=\\Theta_{t-1}-\\alpha\\frac{m_t}{\\sqrt{G_t+\\epsilon}}$$"
   ]
  },
  {
   "cell_type": "code",
   "execution_count": 78,
   "metadata": {
    "collapsed": true
   },
   "outputs": [],
   "source": [
    "#分别为NAG,RMSProb,Adadelta,Adam初始化权重向量等\n",
    "(n,m)=np.shape(X_train)\n",
    "#SGD的初始化权重矩阵\n",
    "w_sgd=np.zeros((m,1))\n",
    "\n",
    "#NAG的初始化权重矩阵\n",
    "w_nag=np.zeros((m,1))\n",
    "v_nag=np.zeros((m,1))\n",
    "#RMS的初始化权重矩阵\n",
    "w_rms=np.zeros((m,1))\n",
    "#w_rms=np.random.standard_normal([X_train.shape[1],1])\n",
    "G_rms=np.zeros((m,1))\n",
    "#Adadelta的初始化权重矩阵\n",
    "w_ada=np.zeros((m,1))\n",
    "G_ada=np.zeros((m,1))\n",
    "delta=np.zeros((m,1))\n",
    "#Adam的初始化权重矩阵\n",
    "w_adam=np.zeros((m,1))\n",
    "G_adam=np.zeros((m,1))\n",
    "m_adam=np.zeros((m,1))\n",
    "\n",
    "#迭次次数\n",
    "epco=4000\n",
    "times=range(epco)"
   ]
  },
  {
   "cell_type": "code",
   "execution_count": 87,
   "metadata": {},
   "outputs": [],
   "source": [
    "#定义未优化的SGD函数\n",
    "def SGD(X,y,w_sgd,eta,train_size,epco,C,gradient=SGD_gradient,loss=hingeloss,accuracy=accuracy):\n",
    "    sgd_train=[]                       #训练误差列表\n",
    "    sgd_test=[]                            #测试误差列表\n",
    "    sgd_accuracy_train=[]                   #训练准确率列表\n",
    "    sgd_accuracy_test=[]                    #测试准确率列表\n",
    "    #开始进行梯度下降过程\n",
    "    for i in range(epco):\n",
    "        #得到用于梯度下降的小部分样本，即X_trainset,y_trainset\n",
    "        X_trainset,X_other,y_trainset,y_other=train_test_split(X,y,test_size=1-train_size,random_state=random.randint(0,1000))\n",
    "        #调用未优化的sgd的梯度下降函数，每一次迭代进行一步梯度下降\n",
    "        w_sgd=gradient(X_trainset,y_trainset,w_sgd,eta,C)\n",
    "        sgd_train.append(loss(X_trainset,y_trainset,w_sgd))            #得到训练和测试的loss\n",
    "        sgd_test.append(loss(X_test,y_test,w_sgd))\n",
    "        sgd_accuracy_train.append(accuracy(X_train,w_sgd,y_train))     #计算训练和测试的准确率\n",
    "        sgd_accuracy_test.append(accuracy(X_test,w_sgd,y_test))\n",
    "    return sgd_train,sgd_test,sgd_accuracy_train,sgd_accuracy_test\n",
    "#参数初始化\n",
    "eta=0.00005                           #学习率设为0.008\n",
    "train_size=0.0005               #指用于训练SGD的样本数占X_train的比例,约有15个样本用于训练\n",
    "C=1\n",
    "#开始训练，得到训练误差，测试误差，训练准确率和测试准确率\n",
    "sgd_train,sgd_test,sgd_accuracy_train,sgd_accuracy_test=SGD(X=X_train,y=y_train,w_sgd=w_sgd,eta=eta,train_size=train_size,epco=epco,C=C)"
   ]
  },
  {
   "cell_type": "code",
   "execution_count": 80,
   "metadata": {},
   "outputs": [],
   "source": [
    "#定义NAG sgd的训练函数\n",
    "def NAG(X,y,w_nag,v_nag,gamma,eta,train_size,C,gradient=NAG_gradient,loss=hingeloss,accuracy=accuracy):\n",
    "    nag_train=[]                     #训练误差列表\n",
    "    nag_test=[]                      #测试误差列表\n",
    "    nag_accuracy_train=[]            #训练准确率列表\n",
    "    nag_accuracy_test=[]             #测试准确率列表\n",
    "    for i in range(epco):\n",
    "        #得到用于随机梯度下降训练的小部分样本  {即X_trainset,y_trainset}\n",
    "        X_trainset,X_other,y_trainset,y_other=train_test_split(X,y,test_size=1-train_size,random_state=random.randint(0,1000))\n",
    "        #调用NG_gradient,每一次迭代进行一次梯度下降\n",
    "        w_nag,v_nag=gradient(X_trainset,y_trainset,w_nag,v_nag,gamma,eta,C)\n",
    "        nag_train.append(loss(X_trainset,y_trainset,w_nag))                #得到训练和测试的loss\n",
    "        nag_test.append(loss(X_test,y_test,w_nag))\n",
    "        nag_accuracy_train.append(accuracy(X_trainset,w_nag,y_trainset))  #计算训练和测试的准确率\n",
    "        nag_accuracy_test.append(accuracy(X_test,w_nag,y_test))\n",
    "    return nag_train,nag_test,nag_accuracy_train,nag_accuracy_test\n",
    "#参数初始化\n",
    "gamma=0.9\n",
    "eta=0.00001                                                             #学习率设为0.001\n",
    "train_size=0.0005                                                       #指用于训练SGD的样本数占X_train的比例\n",
    "C=1\n",
    "#开始训练，得到训练误差，测试误差，训练准确率和测试准确率\n",
    "nag_train,nag_test,nag_accuracy_train,nag_accuracy_test=NAG(X=X_train,y=y_train,w_nag=w_nag,v_nag=v_nag,gamma=gamma,eta=eta,train_size=train_size,C=C)"
   ]
  },
  {
   "cell_type": "code",
   "execution_count": 81,
   "metadata": {},
   "outputs": [],
   "source": [
    "#定义RMS sgd的实现方法\n",
    "def RMS(X,y,w_rms,G_rms,gamma,eta,epco,train_size,C,gradient=RMS_gradient,loss=hingeloss,accuracy=accuracy):\n",
    "    epision=0.00001                   #设置epision为0.0001，既避免Gt为零时的错误，也减小该参数对结果的影响   \n",
    "    rms_train=[]                     #训练误差列表\n",
    "    rms_test=[]                      #测试误差列表\n",
    "    rms_accuracy_train=[]           #训练准确率列表\n",
    "    rms_accuracy_test=[]            #测试准确率列表\n",
    "    for i in range(epco):\n",
    "        #得到用于随机梯度下降训练的小部分样本\n",
    "        X_trainset,X_other,y_trainset,y_other=train_test_split(X,y,test_size=1-train_size,random_state=random.randint(0,1000))\n",
    "        w_rms,G_rms=gradient(X_trainset,y_trainset,w_rms,G_rms,gamma,eta,epision,C)    #梯度下降更新\n",
    "        rms_train.append(loss(X_trainset,y_trainset,w_rms))              #得到训练和测试的loss\n",
    "        rms_test.append(loss(X_test,y_test,w_rms))\n",
    "        rms_accuracy_train.append(accuracy(X_trainset,w_rms,y_trainset))  #计算准确率\n",
    "        rms_accuracy_test.append(accuracy(X_test,w_rms,y_test))\n",
    "    return rms_train,rms_test,rms_accuracy_train,rms_accuracy_test\n",
    "#参数初始化\n",
    "gamma=0.9\n",
    "eta=0.001                                                        #学习率设为0.001\n",
    "train_size=0.0005                                                #指用于训练SGD的样本数占X_train的比例\n",
    "C=1\n",
    "#开始训练，得到训练误差，测试误差，训练准确率和测试准确率\n",
    "rms_train,rms_test,rms_accuracy_train,rms_accuracy_test=RMS(X=X_train,y=y_train,w_rms=w_rms,G_rms=G_rms,gamma=gamma,eta=eta,epco=epco,train_size=train_size,C=C)"
   ]
  },
  {
   "cell_type": "code",
   "execution_count": 82,
   "metadata": {},
   "outputs": [],
   "source": [
    "#定义Adadelta sgd的实现方法\n",
    "def Adadelta(X,y,w_ada,G_ada,delta,gamma,eta,epco,train_size,C,gradient=Adadelta_gradient,loss=hingeloss,accuracy=accuracy):\n",
    "    epision=0.0000001                           #设置epision为0.0001，既避免Gt为零时的错误，也减小该参数对结果的影响               \n",
    "    ada_train=[]                               #训练误差列表\n",
    "    ada_test=[]                                   #测试误差列表\n",
    "    ada_accuracy_train=[]                           #训练准确率列表\n",
    "    ada_accuracy_test=[]                               #测试准确率列表\n",
    "    for i in range(epco):\n",
    "        #得到用于随机梯度下降训练的小部分样本\n",
    "        X_trainset,X_other,y_trainset,y_other=train_test_split(X,y,test_size=1-train_size,random_state=random.randint(0,1000))        \n",
    "        #调用Adadelta_gradient,每一次迭代进行一次梯度下降\n",
    "        w_ada,G_ada,delta=gradient(X_trainset,y_trainset,w_ada,G_ada,gamma,delta,epision,C)\n",
    "        ada_train.append(loss(X_trainset,y_trainset,w_ada))           #得到训练和测试的loss\n",
    "        ada_test.append(loss(X_test,y_test,w_ada))\n",
    "        ada_accuracy_train.append(accuracy(X_trainset,w_ada,y_trainset)) #计算训练和测试准确率\n",
    "        ada_accuracy_test.append(accuracy(X_test,w_ada,y_test))\n",
    "    \n",
    "    return ada_train,ada_test,ada_accuracy_train,ada_accuracy_test\n",
    "#参数初始化\n",
    "gamma=0.9\n",
    "eta=0.000001                                               #学习率设为0.001\n",
    "train_size=0.0005                                        #指用于训练SGD的样本数占X_train的比例\n",
    "C=1\n",
    "#开始训练，得到训练误差，测试误差，训练准确率和测试准确率\n",
    "ada_train,ada_test,ada_accuracy_train,ada_accuracy_test=Adadelta(X=X_train,y=y_train,w_ada=w_ada,G_ada=G_ada,delta=delta,gamma=gamma,eta=eta,epco=epco,train_size=train_size,C=C)"
   ]
  },
  {
   "cell_type": "code",
   "execution_count": 83,
   "metadata": {},
   "outputs": [],
   "source": [
    "#定义Adam sgd的实现方法\n",
    "def Adam(X,y,w_adam,G_adam,m_adam,gamma,eta,epco,train_size,C,gradient=Adam_gradient,loss=hingeloss,accuracy=accuracy):\n",
    "    epision=0.0001                          #设置epision为0.0001，既避免Gt为零时的错误，也减小该参数对结果的影响\n",
    "    adam_train=[]                       #训练误差列表\n",
    "    adam_test=[]                         #测试误差列表\n",
    "    adam_accuracy_train=[]                #训练准确率列表\n",
    "    adam_accuracy_test=[]                 #测试准确率列表\n",
    "    for i in range(epco):\n",
    "        #得到用于随机梯度下降训练的小部分样本\n",
    "        X_trainset,X_other,y_trainset,y_other=train_test_split(X,y,test_size=1-train_size,random_state=random.randint(0,1000))        \n",
    "        # 调用Adam_gradient,每一次迭代进行一次梯度下降\n",
    "        w_adam,G_adam,m_adam=gradient(X_trainset,y_trainset,w_adam,G_adam,m_adam,gamma,i+1,etha,belta,epision,C)\n",
    "        adam_train.append(loss(X_trainset,y_trainset,w_adam))              #得到训练和测试的loss\n",
    "        adam_test.append(loss(X_test,y_test,w_adam))\n",
    "        adam_accuracy_train.append(accuracy(X_trainset,w_adam,y_trainset))  #计算训练和测试准确率\n",
    "        adam_accuracy_test.append(accuracy(X_test,w_adam,y_test))\n",
    "    return adam_train,adam_test,adam_accuracy_train,adam_accuracy_test\n",
    "#参数初始化\n",
    "gamma=0.9\n",
    "etha=0.001                                       #学习率设为0.01\n",
    "belta=0.9                                      \n",
    "train_size=0.0005                                 #指用于训练SGD的样本数占X_train的比例\n",
    "C=1\n",
    "#开始训练，得到训练误差，测试误差，训练准确率和测试准确率\n",
    "adam_train,adam_test,adam_accuracy_train,adam_accuracy_test=Adam(X=X_train,y=y_train,w_adam=w_adam,G_adam=G_adam,m_adam=m_adam,gamma=gamma,eta=eta,epco=epco,train_size=train_size,C=C)\n"
   ]
  },
  {
   "cell_type": "code",
   "execution_count": 84,
   "metadata": {},
   "outputs": [
    {
     "name": "stdout",
     "output_type": "stream",
     "text": [
      "sgd accuracy 0.757508752534\n",
      "nag accuracy: 0.741047847184\n",
      "rmsprob accuracy: 0.72120877096\n",
      "adadelta accuracy: 0.718936183281\n",
      "adam accuracy: 0.718260549106\n"
     ]
    }
   ],
   "source": [
    "#打印出每种方法最后的准确率\n",
    "print('sgd accuracy',sgd_accuracy_test[-1])\n",
    "print('nag accuracy:',nag_accuracy_test[-1])\n",
    "print(\"rmsprob accuracy:\",rms_accuracy_test[-1])\n",
    "print(\"adadelta accuracy:\",ada_accuracy_test[-1])\n",
    "print(\"adam accuracy:\",adam_accuracy_test[-1])"
   ]
  },
  {
   "cell_type": "code",
   "execution_count": 85,
   "metadata": {
    "scrolled": true
   },
   "outputs": [
    {
     "data": {
      "image/png": "[encoded data removed]",
      "text/plain": [
       "<matplotlib.figure.Figure at 0x2b3293c3630>"
      ]
     },
     "metadata": {},
     "output_type": "display_data"
    }
   ],
   "source": [
    "#打印出各种实现方法的loss曲线\n",
    "plt.yscale('log')\n",
    "plt.title(\"SVM Linear Classification with SGD(loss)\")\n",
    "plt.xlabel('epcohs')\n",
    "plt.ylabel('loss')\n",
    "plt.plot(times,sgd_test,label=\"SGD\")\n",
    "plt.plot(times,nag_test,label=\"NAG\")\n",
    "plt.plot(times,ada_test,label=\"AdaDelta\")\n",
    "plt.plot(times,rms_test,label=\"RMSprop\")\n",
    "plt.plot(times,adam_test,label=\"Adam\")\n",
    "plt.legend()\n",
    "plt.show()"
   ]
  },
  {
   "cell_type": "code",
   "execution_count": 86,
   "metadata": {
    "collapsed": true
   },
   "outputs": [],
   "source": [
    "# #打印出各种是先放的准确率曲线\n",
    "# plt.title('SVM Linear Classification with SGD(accuracy)')\n",
    "# plt.xlabel('times')\n",
    "# plt.ylabel('accuracy')\n",
    "# plt.plot(times,nag_accuracy_test,label=\"NAG\")\n",
    "# plt.plot(times,rms_accuracy_test,label=\"RMSprop\")\n",
    "# plt.plot(times,ada_accuracy_test,label=\"AdaDelta\")\n",
    "# plt.plot(times,adam_accuracy_test,label=\"Adam\")\n",
    "# plt.legend()\n",
    "# plt.show()"
   ]
  },
  {
   "cell_type": "code",
   "execution_count": null,
   "metadata": {
    "collapsed": true
   },
   "outputs": [],
   "source": []
  },
  {
   "cell_type": "code",
   "execution_count": null,
   "metadata": {
    "collapsed": true
   },
   "outputs": [],
   "source": []
  },
  {
   "cell_type": "code",
   "execution_count": null,
   "metadata": {
    "collapsed": true
   },
   "outputs": [],
   "source": []
  }
 ],
 "metadata": {
  "kernelspec": {
   "display_name": "Python 3",
   "language": "python",
   "name": "python3"
  },
  "language_info": {
   "codemirror_mode": {
    "name": "ipython",
    "version": 3
   },
   "file_extension": ".py",
   "mimetype": "text/x-python",
   "name": "python",
   "nbconvert_exporter": "python",
   "pygments_lexer": "ipython3",
   "version": "3.6.2"
  }
 },
 "nbformat": 4,
 "nbformat_minor": 2
}
